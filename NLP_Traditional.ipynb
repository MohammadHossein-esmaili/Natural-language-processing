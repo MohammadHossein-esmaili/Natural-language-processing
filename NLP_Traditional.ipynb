{
  "cells": [
    {
      "cell_type": "markdown",
      "source": [
        "#Natural Language Processing"
      ],
      "metadata": {
        "id": "TpWA2mo0aaZo"
      }
    },
    {
      "source": [
        "# Importing necessary modules from the nltk library for text processing and part-of-speech tagging.\n",
        "import nltk\n",
        "from nltk import pos_tag, word_tokenize, RegexpParser\n",
        "\n",
        "# Downloading necessary datasets for tokenization and part-of-speech tagging from NLTK.\n",
        "# 'punkt' is a tokenizer that helps break text into individual words or sentences.\n",
        "nltk.download('punkt')\n",
        "\n",
        "# 'averaged_perceptron_tagger' is a pre-trained model used for part-of-speech tagging (assigning word categories such as noun, verb, etc.)\n",
        "nltk.download('averaged_perceptron_tagger')\n",
        "\n",
        "# 'stopwords' is a list of common words (like 'the', 'is', etc.) that are often removed from text during natural language processing tasks.\n",
        "nltk.download('stopwords')\n",
        "\n",
        "# 'punkt_tab' is a tokenization model that works specifically for certain edge cases (may not be commonly required).\n",
        "nltk.download('punkt_tab')\n",
        "\n",
        "# 'averaged_perceptron_tagger_eng' is another part-of-speech tagging model, potentially used for specific language or task adjustments.\n",
        "nltk.download('averaged_perceptron_tagger_eng')\n"
      ],
      "cell_type": "code",
      "metadata": {
        "colab": {
          "base_uri": "https://localhost:8080/"
        },
        "id": "daEB7Tt9VVYu",
        "outputId": "f4d2f015-b326-4146-cbe3-db2c50c447d7"
      },
      "execution_count": 5,
      "outputs": [
        {
          "output_type": "stream",
          "name": "stderr",
          "text": [
            "[nltk_data] Downloading package punkt to /root/nltk_data...\n",
            "[nltk_data]   Package punkt is already up-to-date!\n",
            "[nltk_data] Downloading package averaged_perceptron_tagger to\n",
            "[nltk_data]     /root/nltk_data...\n",
            "[nltk_data]   Package averaged_perceptron_tagger is already up-to-\n",
            "[nltk_data]       date!\n",
            "[nltk_data] Downloading package stopwords to /root/nltk_data...\n",
            "[nltk_data]   Package stopwords is already up-to-date!\n",
            "[nltk_data] Downloading package punkt_tab to /root/nltk_data...\n",
            "[nltk_data]   Unzipping tokenizers/punkt_tab.zip.\n"
          ]
        },
        {
          "output_type": "execute_result",
          "data": {
            "text/plain": [
              "True"
            ]
          },
          "metadata": {},
          "execution_count": 5
        }
      ]
    },
    {
      "cell_type": "markdown",
      "source": [
        "## 1. Chunking\n",
        "Chunking is the process of grouping words into meaningful chunks (e.g., noun phrases)."
      ],
      "metadata": {
        "id": "Sd_ZBW7baeIe"
      }
    },
    {
      "cell_type": "code",
      "execution_count": 31,
      "metadata": {
        "id": "lIYdn1woOS1n"
      },
      "outputs": [],
      "source": [
        "# Importing the necessary functions from NLTK library for text processing and chunking.\n",
        "from nltk import word_tokenize, pos_tag, RegexpParser\n",
        "\n",
        "# Defining a sample text that contains all letters of the alphabet (pangram).\n",
        "text = \"The quick brown fox jumps over the lazy dog.\"\n",
        "\n",
        "# Tokenizing the input text into individual words (tokens) using NLTK's word_tokenize function.\n",
        "# This function splits the text into a list of words, punctuation marks are also treated as separate tokens.\n",
        "tokens = word_tokenize(text)\n",
        "\n",
        "# Tagging each token (word) with its part-of-speech (POS) using NLTK's pos_tag function.\n",
        "# It assigns a grammatical tag to each word, such as DT for determiner, NN for noun, etc.\n",
        "pos_tags = pos_tag(tokens)\n",
        "\n",
        "# Defining a grammar for noun phrase (NP) chunking using regular expressions.\n",
        "# This grammar captures noun phrases that start with an optional determiner (DT),\n",
        "# followed by zero or more adjectives (JJ), and ending with a noun (NN).\n",
        "grammar = \"NP: {<DT>?<JJ>*<NN>}\"\n",
        "\n",
        "# Creating a chunk parser using NLTK's RegexpParser with the defined grammar.\n",
        "# This parser will identify and group the tokens matching the noun phrase (NP) pattern.\n",
        "chunk_parser = RegexpParser(grammar)\n",
        "\n",
        "# Parsing the part-of-speech tagged tokens to identify and extract noun phrases based on the defined grammar.\n",
        "tree = chunk_parser.parse(pos_tags)\n",
        "\n",
        "# The result is a syntactic tree where noun phrases are grouped together.\n",
        "# The tree structure represents the hierarchical structure of the sentence.\n"
      ]
    },
    {
      "cell_type": "code",
      "source": [
        "tree.pretty_print()"
      ],
      "metadata": {
        "colab": {
          "base_uri": "https://localhost:8080/"
        },
        "id": "M6onmLn0V0QX",
        "outputId": "19bc1e84-8bd0-4893-febf-c11c1c6031af"
      },
      "execution_count": 9,
      "outputs": [
        {
          "output_type": "stream",
          "name": "stdout",
          "text": [
            "                                S                                          \n",
            "     ___________________________|_______________________________            \n",
            "    |        |     |            NP               NP             NP         \n",
            "    |        |     |     _______|________        |       _______|______     \n",
            "jumps/VBZ over/IN ./. The/DT quick/JJ brown/NN fox/NN the/DT lazy/JJ dog/NN\n",
            "\n"
          ]
        }
      ]
    },
    {
      "cell_type": "markdown",
      "source": [
        "# Parsing\n",
        "\n",
        "\n"
      ],
      "metadata": {
        "id": "92eodBV0ai5T"
      }
    },
    {
      "cell_type": "code",
      "source": [
        "# Importing the spaCy library, which is used for natural language processing (NLP).\n",
        "import spacy\n",
        "\n",
        "# Loading the pre-trained English language model 'en_core_web_sm' for tokenization, part-of-speech tagging, dependency parsing, etc.\n",
        "nlp = spacy.load('en_core_web_sm')\n",
        "\n",
        "# Processing the sentence using the spaCy pipeline (which includes tokenization, POS tagging, and dependency parsing).\n",
        "doc = nlp(\"The quick brown fox jumps over the lazy dog.\")\n",
        "\n",
        "# Iterating through each token (word) in the processed document (doc) and printing:\n",
        "# - token.text: The actual word (token)\n",
        "# - token.dep_: The syntactic dependency relation to the token's head\n",
        "# - token.head.text: The word that the token is syntactically dependent on (its syntactic \"head\")\n",
        "for token in doc:\n",
        "    print(token.text, token.dep_, token.head.text)"
      ],
      "metadata": {
        "colab": {
          "base_uri": "https://localhost:8080/"
        },
        "id": "UvMAPoMhahcM",
        "outputId": "24b87f58-3e9a-42d0-80da-741d43390c9e"
      },
      "execution_count": 32,
      "outputs": [
        {
          "output_type": "stream",
          "name": "stderr",
          "text": [
            "/usr/local/lib/python3.10/dist-packages/spacy/util.py:1740: UserWarning: [W111] Jupyter notebook detected: if using `prefer_gpu()` or `require_gpu()`, include it in the same cell right before `spacy.load()` to ensure that the model is loaded on the correct device. More information: http://spacy.io/usage/v3#jupyter-notebook-gpu\n",
            "  warnings.warn(Warnings.W111)\n"
          ]
        },
        {
          "output_type": "stream",
          "name": "stdout",
          "text": [
            "The det fox\n",
            "quick amod fox\n",
            "brown amod fox\n",
            "fox nsubj jumps\n",
            "jumps ROOT jumps\n",
            "over prep jumps\n",
            "the det dog\n",
            "lazy amod dog\n",
            "dog pobj over\n",
            ". punct jumps\n"
          ]
        }
      ]
    },
    {
      "cell_type": "markdown",
      "source": [
        "# Stemming\n"
      ],
      "metadata": {
        "id": "J3XzzYgIbo2E"
      }
    },
    {
      "cell_type": "code",
      "source": [
        "# Importing the PorterStemmer class from NLTK's stem module.\n",
        "from nltk.stem import PorterStemmer\n",
        "\n",
        "# Creating an instance of the PorterStemmer class.\n",
        "stemmer = PorterStemmer()\n",
        "\n",
        "# A list of words to be stemmed (reduced to their root form).\n",
        "words = [\"running\", \"runner\", \"runs\", \"ran\"]\n",
        "\n",
        "# Using a list comprehension to apply the stemmer to each word in the list and store the resulting stems in a new list.\n",
        "stems = [stemmer.stem(word) for word in words]\n",
        "\n",
        "# Printing the list of stemmed words (roots).\n",
        "print(stems)\n"
      ],
      "metadata": {
        "colab": {
          "base_uri": "https://localhost:8080/"
        },
        "id": "RpcCJNn-ak5Y",
        "outputId": "0b5d827d-b7e3-4240-82d4-244f99b64b6a"
      },
      "execution_count": 33,
      "outputs": [
        {
          "output_type": "stream",
          "name": "stdout",
          "text": [
            "['run', 'runner', 'run', 'ran']\n"
          ]
        }
      ]
    },
    {
      "source": [
        "# Importing necessary libraries.\n",
        "# 're' is for regular expressions, used for text preprocessing.\n",
        "# 'PorterStemmer' is used for stemming words to their root form.\n",
        "# 'word_tokenize' is used for tokenizing the text into individual words.\n",
        "import re\n",
        "from nltk.stem import PorterStemmer\n",
        "from nltk.tokenize import word_tokenize\n",
        "\n",
        "# Sample text that contains contractions (e.g., \"He's\" and \"can't\").\n",
        "text = \"He's running and can't stop. The dog's tail is wagging.\"\n",
        "\n",
        "# Preprocessing: Handling contractions (optional)\n",
        "# This step is used to handle contractions and apostrophes in the text using regular expressions (regex).\n",
        "\n",
        "# Step 1: Replace fancy apostrophes (like curly quotes) with a standard apostrophe.\n",
        "text_clean = re.sub(r\"’\", \"'\", text)  # Replaces '’' with standard \"'\"\n",
        "\n",
        "# Step 2: Handle contractions like \"can't\" and \"won't\", by removing the apostrophe.\n",
        "# This replaces \"can't\" with \"cant\" and \"won't\" with \"wont\".\n",
        "text_clean = re.sub(r\"\\b(can't|won't)\\b\", lambda x: x.group(0).replace(\"'\", \"\"), text_clean)\n",
        "\n",
        "# Step 3: Remove any remaining apostrophes attached to words (e.g., \"'s\" as in \"dog's\").\n",
        "text_clean = re.sub(r\"'\\b\", \"\", text_clean)  # Removes apostrophes at the end of words.\n",
        "\n",
        "# Tokenization: Split the cleaned text into individual words.\n",
        "words = word_tokenize(text_clean)\n",
        "\n",
        "# Apply stemming: Use PorterStemmer to reduce each word to its root form.\n",
        "# For example, \"running\" becomes \"run\", \"dog's\" becomes \"dog\", etc.\n",
        "stemmer = PorterStemmer()\n",
        "stemmed_words = [stemmer.stem(word) for word in words]\n",
        "\n",
        "# Print the original list of words (tokens) and the list of stemmed words.\n",
        "print(\"Original Words:\", words)\n",
        "print(\"Stemmed Words:\", stemmed_words)\n"
      ],
      "cell_type": "code",
      "metadata": {
        "colab": {
          "base_uri": "https://localhost:8080/"
        },
        "id": "1noeSWSWWDOs",
        "outputId": "f136e1ca-2561-45cd-a670-db1519f28776"
      },
      "execution_count": 34,
      "outputs": [
        {
          "output_type": "stream",
          "name": "stdout",
          "text": [
            "Original Words: ['Hes', 'running', 'and', 'cant', 'stop', '.', 'The', 'dogs', 'tail', 'is', 'wagging', '.']\n",
            "Stemmed Words: ['he', 'run', 'and', 'cant', 'stop', '.', 'the', 'dog', 'tail', 'is', 'wag', '.']\n"
          ]
        }
      ]
    },
    {
      "cell_type": "code",
      "source": [
        "# Importing the necessary stemmers from NLTK library.\n",
        "# PorterStemmer is a basic stemmer with a set of predefined rules for stemming.\n",
        "# SnowballStemmer is a more aggressive stemmer, providing better results for various languages, including English.\n",
        "from nltk.stem import PorterStemmer, SnowballStemmer\n",
        "\n",
        "# Creating instances of the PorterStemmer and SnowballStemmer for English language.\n",
        "porter_stemmer = PorterStemmer()\n",
        "snowball_stemmer = SnowballStemmer(\"english\")   # Specify 'english' as the language for SnowballStemmer.\n",
        "\n",
        "# List of words to be stemmed.\n",
        "words = [\"running\", \"try\", \"easily\", \"fairly\", \"nationalization\", \"studying\"]\n",
        "\n",
        "# Applying the PorterStemmer to each word in the list and storing the results.\n",
        "porter_stemmed = [porter_stemmer.stem(word) for word in words]\n",
        "\n",
        "# Applying the SnowballStemmer to each word in the list and storing the results.\n",
        "snowball_stemmed = [snowball_stemmer.stem(word) for word in words]\n",
        "\n",
        "# Printing the original words, Porter stemmed words, and Snowball stemmed words.\n",
        "print(\"Original Words:  \", words)\n",
        "print(\"PorterStemmed:    \", porter_stemmed)\n",
        "print(\"SnowballStemmed:  \", snowball_stemmed)"
      ],
      "metadata": {
        "colab": {
          "base_uri": "https://localhost:8080/"
        },
        "id": "Sl8THYbOeMN3",
        "outputId": "24fdfcc2-4fad-4645-e8f5-f7a3b952aeab"
      },
      "execution_count": 35,
      "outputs": [
        {
          "output_type": "stream",
          "name": "stdout",
          "text": [
            "Original Words:   ['running', 'try', 'easily', 'fairly', 'nationalization', 'studying']\n",
            "PorterStemmed:     ['run', 'tri', 'easili', 'fairli', 'nation', 'studi']\n",
            "SnowballStemmed:   ['run', 'tri', 'easili', 'fair', 'nation', 'studi']\n"
          ]
        }
      ]
    },
    {
      "cell_type": "markdown",
      "source": [
        "# Lemmatization\n"
      ],
      "metadata": {
        "id": "TNdQNd7Hb1kp"
      }
    },
    {
      "cell_type": "code",
      "source": [
        "# Importing spaCy and loading the English language model (small version).\n",
        "import spacy\n",
        "\n",
        "# Loading the small English model ('en_core_web_sm') for NLP processing.\n",
        "nlp = spacy.load('en_core_web_sm')\n",
        "\n",
        "# Sample text that contains different forms of words (good, well, better, best, go, gone, went).\n",
        "doc = nlp(\"good well better best go gone went\")\n",
        "\n",
        "# Using a list comprehension to extract the lemmatized form of each token (word).\n",
        "# The 'lemma_' attribute provides the base or root form of the word (e.g., \"went\" -> \"go\").\n",
        "lemmas = [token.lemma_ for token in doc]\n",
        "\n",
        "# Printing the list of lemmatized words.\n",
        "print(lemmas)"
      ],
      "metadata": {
        "colab": {
          "base_uri": "https://localhost:8080/"
        },
        "id": "lyTl3DpZb0MG",
        "outputId": "4105c7a0-4154-4c64-ad77-051e8e2ea7bb"
      },
      "execution_count": 36,
      "outputs": [
        {
          "output_type": "stream",
          "name": "stdout",
          "text": [
            "['good', 'well', 'well', 'good', 'go', 'go', 'go']\n"
          ]
        }
      ]
    },
    {
      "cell_type": "markdown",
      "source": [
        "# Tokenization\n"
      ],
      "metadata": {
        "id": "Mc_hTo0Sb8Zl"
      }
    },
    {
      "cell_type": "code",
      "source": [
        "# Importing the necessary tokenization functions from NLTK.\n",
        "# word_tokenize is used to split text into individual words.\n",
        "# sent_tokenize is used to split text into sentences.\n",
        "from nltk.tokenize import word_tokenize, sent_tokenize\n",
        "\n",
        "# Sample text for tokenization.\n",
        "text = \"The quick brown fox. It jumps over the lazy dog.\"\n",
        "\n",
        "# Tokenizing the text into individual words using word_tokenize.\n",
        "# This splits the text into a list of words and punctuation marks.\n",
        "word_tokens = word_tokenize(text)\n",
        "\n",
        "# Tokenizing the text into sentences using sent_tokenize.\n",
        "# This splits the text into a list of sentences.\n",
        "sent_tokens = sent_tokenize(text)\n",
        "\n",
        "# Printing the list of word tokens (words and punctuation).\n",
        "print(word_tokens)\n",
        "\n",
        "# Printing the list of sentence tokens (complete sentences).\n",
        "print(sent_tokens)"
      ],
      "metadata": {
        "colab": {
          "base_uri": "https://localhost:8080/"
        },
        "id": "2AfN_g_db6EU",
        "outputId": "e2ced1ba-32c7-4a96-c688-1c96da1317fc"
      },
      "execution_count": 37,
      "outputs": [
        {
          "output_type": "stream",
          "name": "stdout",
          "text": [
            "['The', 'quick', 'brown', 'fox', '.', 'It', 'jumps', 'over', 'the', 'lazy', 'dog', '.']\n",
            "['The quick brown fox.', 'It jumps over the lazy dog.']\n"
          ]
        }
      ]
    },
    {
      "cell_type": "markdown",
      "source": [
        "## 6. Stopword Removal\n",
        "Stopword removal eliminates common words like \"the\", \"is\", etc."
      ],
      "metadata": {
        "id": "uyLAHBCLcBBX"
      }
    },
    {
      "cell_type": "code",
      "source": [
        "# Importing necessary functions from NLTK.\n",
        "# stopwords: A module that provides a list of common stopwords for various languages.\n",
        "# word_tokenize: A function to split text into individual words.\n",
        "from nltk.corpus import stopwords\n",
        "from nltk.tokenize import word_tokenize\n",
        "\n",
        "# Getting the list of English stopwords from NLTK's stopwords corpus.\n",
        "stop_words = set(stopwords.words('english'))\n",
        "\n",
        "# Sample text for processing.\n",
        "text = \"The quick brown fox jumps over the lazy dog.\"\n",
        "\n",
        "# Tokenizing the text into words using word_tokenize.\n",
        "words = word_tokenize(text)\n",
        "\n",
        "# Filtering out stopwords from the tokenized words.\n",
        "# We check if each word (converted to lowercase) is in the stopwords list.\n",
        "filtered_words = [word for word in words if word.lower() not in stop_words]\n",
        "\n",
        "# Printing the filtered list of words, with stopwords removed.\n",
        "print(filtered_words)"
      ],
      "metadata": {
        "colab": {
          "base_uri": "https://localhost:8080/"
        },
        "id": "jX84A-PccDna",
        "outputId": "1412ecde-e6e1-4599-ff98-58bead4600cc"
      },
      "execution_count": 38,
      "outputs": [
        {
          "output_type": "stream",
          "name": "stdout",
          "text": [
            "['quick', 'brown', 'fox', 'jumps', 'lazy', 'dog', '.']\n"
          ]
        }
      ]
    },
    {
      "cell_type": "markdown",
      "source": [
        "# Lowercasing\n"
      ],
      "metadata": {
        "id": "E21TBHPAcDPR"
      }
    },
    {
      "cell_type": "code",
      "source": [
        "# Sample text to be converted to lowercase.\n",
        "text = \"The Quick Brown Fox Jumps Over the LAZY Dog.\"\n",
        "\n",
        "# Using the lower() method to convert all characters in the text to lowercase.\n",
        "lower_text = text.lower()\n",
        "\n",
        "# Printing the converted text in lowercase.\n",
        "print(lower_text)"
      ],
      "metadata": {
        "colab": {
          "base_uri": "https://localhost:8080/"
        },
        "id": "CALDHFw-cNxR",
        "outputId": "852b34e7-bcd7-462e-b4dd-b66ad94736d5"
      },
      "execution_count": 39,
      "outputs": [
        {
          "output_type": "stream",
          "name": "stdout",
          "text": [
            "the quick brown fox jumps over the lazy dog.\n"
          ]
        }
      ]
    },
    {
      "cell_type": "markdown",
      "source": [
        "# POS Tagging\n"
      ],
      "metadata": {
        "id": "UuoVDAFecQqg"
      }
    },
    {
      "cell_type": "code",
      "source": [
        "# Importing necessary functions from NLTK.\n",
        "# word_tokenize is used to split the text into individual words.\n",
        "# pos_tag is used to assign part-of-speech tags to each token (word).\n",
        "from nltk import word_tokenize, pos_tag\n",
        "\n",
        "# Sample text for tokenization and POS tagging.\n",
        "text = \"The quick brown fox jumps over the lazy dog.\"\n",
        "\n",
        "# Tokenizing the text into individual words using word_tokenize.\n",
        "# This function splits the input text into a list of words and punctuation.\n",
        "tokens = word_tokenize(text)\n",
        "\n",
        "# Assigning part-of-speech tags to each token (word) using pos_tag.\n",
        "# The pos_tag function assigns a grammatical category to each word (e.g., noun, verb, adjective).\n",
        "pos_tags = pos_tag(tokens)\n",
        "\n",
        "# Printing the list of tokens along with their POS tags.\n",
        "print(pos_tags)"
      ],
      "metadata": {
        "colab": {
          "base_uri": "https://localhost:8080/"
        },
        "id": "TdGk1ZpKcS9z",
        "outputId": "5393e676-e549-4ecf-a9b7-1f216fcfbff8"
      },
      "execution_count": 40,
      "outputs": [
        {
          "output_type": "stream",
          "name": "stdout",
          "text": [
            "[('The', 'DT'), ('quick', 'JJ'), ('brown', 'NN'), ('fox', 'NN'), ('jumps', 'VBZ'), ('over', 'IN'), ('the', 'DT'), ('lazy', 'JJ'), ('dog', 'NN'), ('.', '.')]\n"
          ]
        }
      ]
    },
    {
      "cell_type": "markdown",
      "source": [
        "# N-gram Extraction\n"
      ],
      "metadata": {
        "id": "Fi4V9QiYcVn0"
      }
    },
    {
      "cell_type": "code",
      "source": [
        "# Importing the ngrams function from NLTK to generate n-grams (in this case, trigrams).\n",
        "from nltk import ngrams\n",
        "from nltk.tokenize import word_tokenize\n",
        "\n",
        "# Sample text for generating trigrams.\n",
        "text = \"The quick brown fox jumps over the lazy dog\"\n",
        "\n",
        "# Tokenizing the text into individual words using word_tokenize.\n",
        "tokens = word_tokenize(text)\n",
        "\n",
        "# Generating trigrams from the list of tokens.\n",
        "# ngrams(tokens, 3) generates all possible contiguous sequences of 3 words (trigrams) from the tokens list.\n",
        "trigrams = list(ngrams(tokens, 3))\n",
        "\n",
        "# Printing the list of trigrams.\n",
        "print(trigrams)"
      ],
      "metadata": {
        "colab": {
          "base_uri": "https://localhost:8080/"
        },
        "id": "_tYVxEKucXd1",
        "outputId": "65dafe76-7f7c-4f54-cc90-6715a318b89d"
      },
      "execution_count": 41,
      "outputs": [
        {
          "output_type": "stream",
          "name": "stdout",
          "text": [
            "[('The', 'quick', 'brown'), ('quick', 'brown', 'fox'), ('brown', 'fox', 'jumps'), ('fox', 'jumps', 'over'), ('jumps', 'over', 'the'), ('over', 'the', 'lazy'), ('the', 'lazy', 'dog')]\n"
          ]
        }
      ]
    },
    {
      "cell_type": "markdown",
      "source": [
        "# TF-IDF"
      ],
      "metadata": {
        "id": "odRyv7a5caeP"
      }
    },
    {
      "cell_type": "code",
      "source": [
        "# Importing the TfidfVectorizer from scikit-learn to convert text documents to TF-IDF features.\n",
        "from sklearn.feature_extraction.text import TfidfVectorizer\n",
        "\n",
        "# List of sample documents for TF-IDF vectorization.\n",
        "documents = [\"The quick brown fox jumps\", \"The lazy dog lies down\"]\n",
        "\n",
        "# Initializing the TfidfVectorizer. This will be used to transform the text into numerical representations.\n",
        "vectorizer = TfidfVectorizer()\n",
        "\n",
        "# Applying fit_transform to the documents. This both fits the vectorizer to the data and transforms the documents into TF-IDF vectors.\n",
        "# The result is a sparse matrix where each row represents a document and each column represents a word from the vocabulary.\n",
        "tfidf_matrix = vectorizer.fit_transform(documents)\n",
        "\n",
        "# Converting the sparse matrix to a dense numpy array for easier viewing.\n",
        "print(tfidf_matrix.toarray())"
      ],
      "metadata": {
        "colab": {
          "base_uri": "https://localhost:8080/"
        },
        "id": "lbHpmyfScZEK",
        "outputId": "9a0d2cf2-41c9-4a96-a271-cd8efe85b364"
      },
      "execution_count": 42,
      "outputs": [
        {
          "output_type": "stream",
          "name": "stdout",
          "text": [
            "[[0.47107781 0.         0.         0.47107781 0.47107781 0.\n",
            "  0.         0.47107781 0.33517574]\n",
            " [0.         0.47107781 0.47107781 0.         0.         0.47107781\n",
            "  0.47107781 0.         0.33517574]]\n"
          ]
        }
      ]
    },
    {
      "cell_type": "markdown",
      "source": [
        "# Bag of Words"
      ],
      "metadata": {
        "id": "EX7mT8vDcfpN"
      }
    },
    {
      "cell_type": "code",
      "source": [
        "# Importing the CountVectorizer from scikit-learn to convert text documents into a bag of words (BoW) model.\n",
        "from sklearn.feature_extraction.text import CountVectorizer\n",
        "\n",
        "# List of sample documents for bag-of-words vectorization.\n",
        "documents = [\n",
        "    \"The quick brown fox jumps over the tree\",\n",
        "    \"The lazy dog lies down over the ground and the cat is standing beside the tree\"\n",
        "]\n",
        "\n",
        "# Initializing the CountVectorizer. This will be used to convert text into a BoW representation.\n",
        "vectorizer = CountVectorizer()\n",
        "\n",
        "# Applying fit_transform to the documents. This fits the vectorizer to the data and transforms the documents into a matrix of token counts.\n",
        "# The result is a sparse matrix where each row represents a document and each column represents a word in the vocabulary.\n",
        "bow_matrix = vectorizer.fit_transform(documents)\n",
        "\n",
        "# Converting the sparse matrix to a dense numpy array for easier viewing.\n",
        "print(bow_matrix.toarray())"
      ],
      "metadata": {
        "colab": {
          "base_uri": "https://localhost:8080/"
        },
        "id": "rGLseweXcdhh",
        "outputId": "992bcee3-d9cc-4923-99a0-0349677393b0"
      },
      "execution_count": 43,
      "outputs": [
        {
          "output_type": "stream",
          "name": "stdout",
          "text": [
            "[[0 0 1 0 0 0 1 0 0 1 0 0 1 1 0 2 1]\n",
            " [1 1 0 1 1 1 0 1 1 0 1 1 1 0 1 4 1]]\n"
          ]
        }
      ]
    },
    {
      "cell_type": "markdown",
      "source": [
        "# Named Entity Recognition\n"
      ],
      "metadata": {
        "id": "aoqn50k2cjuI"
      }
    },
    {
      "cell_type": "code",
      "source": [
        "# Load the pre-trained English model from spaCy. This model contains knowledge about common entities in English texts.\n",
        "nlp = spacy.load('en_core_web_sm')\n",
        "\n",
        "# Process the given text with the spaCy pipeline.\n",
        "doc = nlp(\"Apple is looking at buying U.K. startup for $1 billion. Steve Jobs was eating an apple.\")\n",
        "\n",
        "# Loop through the identified entities in the processed document.\n",
        "for ent in doc.ents:\n",
        "    # Print the entity's text and its corresponding label (type of entity).\n",
        "    print(ent.text, ent.label_)\n"
      ],
      "metadata": {
        "colab": {
          "base_uri": "https://localhost:8080/"
        },
        "id": "SYp2397wclfA",
        "outputId": "da4d3506-7f2a-418f-d5df-0c032a8376e5"
      },
      "execution_count": 44,
      "outputs": [
        {
          "output_type": "stream",
          "name": "stdout",
          "text": [
            "Apple ORG\n",
            "U.K. GPE\n",
            "$1 billion MONEY\n",
            "Steve Jobs PERSON\n"
          ]
        }
      ]
    },
    {
      "cell_type": "markdown",
      "source": [
        "# Word Embedding (Word2Vec, GloVe)\n"
      ],
      "metadata": {
        "id": "e9sC4LBQcozC"
      }
    },
    {
      "cell_type": "code",
      "source": [
        "# Importing necessary libraries\n",
        "import gensim.downloader as api  # To load pre-trained word embeddings from Gensim's model hub\n",
        "from numpy import dot  # For dot product computation, although not used in this code\n",
        "from numpy.linalg import norm  # For vector normalization, also not used in this code\n",
        "\n",
        "# Load pre-trained GloVe word embeddings (50-dimensional vectors)\n",
        "model = api.load(\"glove-wiki-gigaword-50\")\n",
        "\n",
        "# Sample sentence to extract word embeddings for occurrences of 'bank'\n",
        "sentence = 'king was in the near bank to swim in and then went to the bank to invest money. The bank was close'\n",
        "\n",
        "# Tokenize the sentence into individual words by splitting on spaces\n",
        "words = sentence.split()\n",
        "\n",
        "# Initialize a list to store the embeddings for the word 'bank'\n",
        "bank_vectors = []\n",
        "\n",
        "# Loop through each word in the sentence\n",
        "for word in words:\n",
        "    # Check if the word is 'bank'\n",
        "    if word == 'bank':\n",
        "        # If the word 'bank' is in the model's vocabulary, append its vector to the list\n",
        "        if word in model:\n",
        "            bank_vectors.append(model[word])\n",
        "\n",
        "# Print the list of embeddings (word vectors) for the word 'bank' in the sentence\n",
        "print(bank_vectors)"
      ],
      "metadata": {
        "colab": {
          "base_uri": "https://localhost:8080/"
        },
        "id": "JkBmiqmicnZv",
        "outputId": "b6b17227-bd07-4054-d7d1-668cf6e883fd"
      },
      "execution_count": 45,
      "outputs": [
        {
          "output_type": "stream",
          "name": "stdout",
          "text": [
            "[array([ 0.66488 , -0.11391 ,  0.67844 ,  0.17951 ,  0.6828  , -0.47787 ,\n",
            "       -0.30761 ,  0.17489 , -0.70512 , -0.55022 ,  0.1514  ,  0.10214 ,\n",
            "       -0.45063 , -0.33069 ,  0.056133,  1.2271  ,  0.55607 , -0.68297 ,\n",
            "        0.037364,  0.70266 ,  1.9093  , -0.61483 , -0.83329 , -0.3023  ,\n",
            "       -1.1118  , -1.55    ,  0.2604  ,  0.22957 , -1.0375  , -0.31789 ,\n",
            "        3.5091  , -0.25871 ,  1.0151  ,  0.65927 , -0.18231 , -0.75859 ,\n",
            "       -0.30927 , -0.91678 ,  1.0633  , -0.66761 , -0.37464 , -0.29143 ,\n",
            "        0.65606 , -0.44642 , -0.075495, -1.0552  , -0.60501 ,  0.73582 ,\n",
            "        1.0139  , -0.27749 ], dtype=float32), array([ 0.66488 , -0.11391 ,  0.67844 ,  0.17951 ,  0.6828  , -0.47787 ,\n",
            "       -0.30761 ,  0.17489 , -0.70512 , -0.55022 ,  0.1514  ,  0.10214 ,\n",
            "       -0.45063 , -0.33069 ,  0.056133,  1.2271  ,  0.55607 , -0.68297 ,\n",
            "        0.037364,  0.70266 ,  1.9093  , -0.61483 , -0.83329 , -0.3023  ,\n",
            "       -1.1118  , -1.55    ,  0.2604  ,  0.22957 , -1.0375  , -0.31789 ,\n",
            "        3.5091  , -0.25871 ,  1.0151  ,  0.65927 , -0.18231 , -0.75859 ,\n",
            "       -0.30927 , -0.91678 ,  1.0633  , -0.66761 , -0.37464 , -0.29143 ,\n",
            "        0.65606 , -0.44642 , -0.075495, -1.0552  , -0.60501 ,  0.73582 ,\n",
            "        1.0139  , -0.27749 ], dtype=float32), array([ 0.66488 , -0.11391 ,  0.67844 ,  0.17951 ,  0.6828  , -0.47787 ,\n",
            "       -0.30761 ,  0.17489 , -0.70512 , -0.55022 ,  0.1514  ,  0.10214 ,\n",
            "       -0.45063 , -0.33069 ,  0.056133,  1.2271  ,  0.55607 , -0.68297 ,\n",
            "        0.037364,  0.70266 ,  1.9093  , -0.61483 , -0.83329 , -0.3023  ,\n",
            "       -1.1118  , -1.55    ,  0.2604  ,  0.22957 , -1.0375  , -0.31789 ,\n",
            "        3.5091  , -0.25871 ,  1.0151  ,  0.65927 , -0.18231 , -0.75859 ,\n",
            "       -0.30927 , -0.91678 ,  1.0633  , -0.66761 , -0.37464 , -0.29143 ,\n",
            "        0.65606 , -0.44642 , -0.075495, -1.0552  , -0.60501 ,  0.73582 ,\n",
            "        1.0139  , -0.27749 ], dtype=float32)]\n"
          ]
        }
      ]
    },
    {
      "cell_type": "code",
      "source": [
        "# Import necessary libraries\n",
        "import gensim.downloader as api  # To load pre-trained word embeddings from Gensim's model hub\n",
        "import matplotlib.pyplot as plt  # For creating visualizations (plots)\n",
        "from sklearn.decomposition import PCA  # For dimensionality reduction (Principal Component Analysis)\n",
        "\n",
        "# Load pre-trained GloVe word vectors (50-dimensional vectors) from Gensim's API\n",
        "model = api.load(\"glove-wiki-gigaword-50\")\n",
        "\n",
        "# Define a list of words whose word embeddings we want to visualize\n",
        "words = [\"king\", \"queen\", \"girl\", \"boy\"]\n",
        "\n",
        "# Extract the word vectors (embeddings) for each word in the list\n",
        "word_vectors = [model[word] for word in words]\n",
        "\n",
        "# Perform PCA (Principal Component Analysis) for reducing the word vectors to 2D space\n",
        "pca = PCA(n_components=2)  # We are reducing to 2 components (2D)\n",
        "word_vectors_2d = pca.fit_transform(word_vectors)  # Apply PCA to the word vectors\n",
        "\n",
        "# Create a plot to visualize the word vectors in the 2D space\n",
        "plt.figure(figsize=(8, 6))  # Create a figure with specific size\n",
        "plt.scatter(word_vectors_2d[:, 0], word_vectors_2d[:, 1], color='blue')  # Plot the points in 2D space\n",
        "\n",
        "# Annotate each point in the plot with its corresponding word\n",
        "for i, word in enumerate(words):\n",
        "    plt.annotate(word, xy=(word_vectors_2d[i, 0], word_vectors_2d[i, 1]), fontsize=12)\n",
        "\n",
        "# Add title and axis labels\n",
        "plt.title(\"2D PCA Projection of Word Vectors\")  # Title of the plot\n",
        "plt.xlabel(\"PCA Component 1\")  # Label for the X-axis (First principal component)\n",
        "plt.ylabel(\"PCA Component 2\")  # Label for the Y-axis (Second principal component)\n",
        "\n",
        "# Display grid on the plot for better readability\n",
        "plt.grid(True)\n",
        "\n",
        "# Show the plot\n",
        "plt.show()"
      ],
      "metadata": {
        "colab": {
          "base_uri": "https://localhost:8080/",
          "height": 547
        },
        "id": "reMxtXE_eh9r",
        "outputId": "61aa9ba5-772c-44a8-c56f-5bbce233087f"
      },
      "execution_count": 46,
      "outputs": [
        {
          "output_type": "display_data",
          "data": {
            "text/plain": [
              "<Figure size 800x600 with 1 Axes>"
            ],
            "image/png": "[encoded data removed]"
          },
          "metadata": {}
        }
      ]
    },
    {
      "cell_type": "markdown",
      "source": [
        "# Sentence Segmentation\n"
      ],
      "metadata": {
        "id": "xZizCSolcvoz"
      }
    },
    {
      "cell_type": "code",
      "source": [
        "# Importing the necessary function from NLTK to tokenize text into sentences\n",
        "from nltk.tokenize import sent_tokenize\n",
        "\n",
        "# Sample text that contains multiple sentences\n",
        "text = \"The quick brown fox jumps over the lazy dog. It then ran away.\"\n",
        "\n",
        "# Tokenizing the text into individual sentences using the sent_tokenize function\n",
        "sentences = sent_tokenize(text)\n",
        "\n",
        "# Printing the list of tokenized sentences\n",
        "print(sentences)"
      ],
      "metadata": {
        "colab": {
          "base_uri": "https://localhost:8080/"
        },
        "id": "ryhLVE3scxFK",
        "outputId": "a86af9e0-8f43-4ef0-9201-14e4473f5c55"
      },
      "execution_count": 48,
      "outputs": [
        {
          "output_type": "stream",
          "name": "stdout",
          "text": [
            "['The quick brown fox jumps over the lazy dog.', 'It then ran away.']\n"
          ]
        }
      ]
    },
    {
      "cell_type": "markdown",
      "source": [
        "# Regex\n",
        "### Phone Numbers (+dd-ddddddd)\n"
      ],
      "metadata": {
        "id": "a47q8t5nczxz"
      }
    },
    {
      "cell_type": "code",
      "source": [
        "# Sample text containing phone numbers\n",
        "text = \"Here are two phone numbers: +12-345678923 and +44-1234567.\"\n",
        "\n",
        "# Regular expression pattern to match phone numbers in the format +dd-ddddddd\n",
        "phone_pattern = r\"\\+\\d{2}-\\d{7,}\"\n",
        "\n",
        "# Use re.findall to find all matches of the pattern in the text\n",
        "phone_numbers = re.findall(phone_pattern, text)\n",
        "\n",
        "# Print the list of matched phone numbers\n",
        "print(phone_numbers)"
      ],
      "metadata": {
        "colab": {
          "base_uri": "https://localhost:8080/"
        },
        "id": "mcO69kUmc36V",
        "outputId": "f84bd8fa-0de2-45e2-b922-58d999e804d7"
      },
      "execution_count": 49,
      "outputs": [
        {
          "output_type": "stream",
          "name": "stdout",
          "text": [
            "['+12-345678923', '+44-1234567']\n"
          ]
        }
      ]
    },
    {
      "cell_type": "markdown",
      "source": [
        "### Email Addresses"
      ],
      "metadata": {
        "id": "eGXQd9W5dB0l"
      }
    },
    {
      "cell_type": "code",
      "source": [
        "# Regular expression pattern to match email addresses\n",
        "email_pattern = r\"[a-zA-Z0-9._%+-]+@[a-zA-Z0-9.-]+\\.[a-zA-Z]{2,}\"\n",
        "\n",
        "# Sample text containing email addresses\n",
        "text = \"Please contact us at info@example.com or support@company.org or MHE@info.nl\"\n",
        "\n",
        "# Use re.findall to find all email matches in the text\n",
        "email_addresses = re.findall(email_pattern, text)\n",
        "\n",
        "# Print the list of found email addresses\n",
        "print(email_addresses)"
      ],
      "metadata": {
        "colab": {
          "base_uri": "https://localhost:8080/"
        },
        "id": "DnaLwd30dABU",
        "outputId": "009528bf-9689-42b6-c801-e0bfc5b87922"
      },
      "execution_count": 51,
      "outputs": [
        {
          "output_type": "stream",
          "name": "stdout",
          "text": [
            "['info@example.com', 'support@company.org', 'MHE@info.nl']\n"
          ]
        }
      ]
    },
    {
      "cell_type": "markdown",
      "source": [
        "![nlp-working.webp](data:image/webp;base64,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)\n",
        "\n",
        "## **END**\n",
        "\n",
        "---\n",
        "\n"
      ],
      "metadata": {
        "id": "WRKwcW9NaFRK"
      }
    }
  ],
  "metadata": {
    "colab": {
      "provenance": [],
      "gpuType": "T4"
    },
    "kernelspec": {
      "display_name": "Python 3",
      "name": "python3"
    },
    "accelerator": "GPU"
  },
  "nbformat": 4,
  "nbformat_minor": 0
}